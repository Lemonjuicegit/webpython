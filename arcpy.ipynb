{
 "cells": [
  {
   "cell_type": "code",
   "execution_count": 1,
   "metadata": {},
   "outputs": [
    {
     "data": {
      "text/html": [
       "<style>table td#td0  {font-weight: bold}</style><table class=\"notebook\"><colgroup><col style=\"width:45%\"></col><col style=\"width:55%\"></col></colgroup><tr><td id = \"td0\" title=\"name (投影坐标系)\">name (投影坐标系)</td><td title=\"CGCS2000_3_Degree_GK_Zone_35\">CGCS2000_3_Degree_GK_Zone_35</td></tr><tr><td id = \"td0\" title=\"factoryCode (WKID)\">factoryCode (WKID)</td><td title=\"4523\">4523</td></tr><tr><td id = \"td0\" title=\"linearUnitName (线性单位)\">linearUnitName (线性单位)</td><td title=\"Meter\">Meter</td></tr></table><div class=\"subtitle\">spatialReference.GCS</div><style>table td#td0  {font-weight: bold}</style><table class=\"notebook\"><colgroup><col style=\"width:45%\"></col><col style=\"width:55%\"></col></colgroup><tr><td id = \"td0\" title=\"name (地理坐标系)\">name (地理坐标系)</td><td title=\"GCS_China_Geodetic_Coordinate_System_2000\">GCS_China_Geodetic_Coordinate_System_2000</td></tr><tr><td id = \"td0\" title=\"factoryCode (WKID)\">factoryCode (WKID)</td><td title=\"4490\">4490</td></tr><tr><td id = \"td0\" title=\"angularUnitName (角度单位)\">angularUnitName (角度单位)</td><td title=\"Degree\">Degree</td></tr><tr><td id = \"td0\" title=\"datumName (基准面)\">datumName (基准面)</td><td title=\"D_China_2000\">D_China_2000</td></tr></table>"
      ],
      "text/plain": [
       "<geoprocessing spatial reference object at 0x2870f0968f0>"
      ]
     },
     "execution_count": 1,
     "metadata": {},
     "output_type": "execute_result"
    }
   ],
   "source": [
    "import pandas as pd\n",
    "import arcpy,os\n",
    "from pathlib import Path\n",
    "dataset = r\"E:\\exploitation\\webpython\\test\\500106沙坪坝区作业数据_1.gdb\\CCWJQ\"\n",
    "spatial_ref = arcpy.Describe(dataset).spatialReference\n",
    "spatial_ref"
   ]
  },
  {
   "cell_type": "code",
   "execution_count": 41,
   "metadata": {},
   "outputs": [],
   "source": [
    "class Crop:\n",
    "    def __init__(self,gdb,benchmark_lay,save_gdb,saveName_field) -> None:\n",
    "        # gdb:要分块的数据库\n",
    "        # benchmark_lay:分块基准图层\n",
    "        # save_gdb:分块出来的数据保存位置\n",
    "        self.gdb_path = gdb\n",
    "        self.save = save_gdb\n",
    "        self.saveName_field = saveName_field\n",
    "        self.lay_name = benchmark_lay\n",
    "        self.featureName = pd.DataFrame(columns=[\"directory\", \"setname\", \"featureName\"])\n",
    "        with arcpy.EnvManager(workspace = self.gdb_path):\n",
    "            datasets = arcpy.ListDatasets(\"*\", \"Feature\")\n",
    "            for dataset in datasets:\n",
    "                featureclasses = arcpy.ListFeatureClasses(feature_dataset=dataset)\n",
    "                for fc in featureclasses:\n",
    "                    self.featureName.loc[self.featureName.shape[0]] = [os.path.join( self.gdb_path, dataset),dataset,fc]\n",
    "        self.spatialReference = arcpy.Describe(os.path.join(self.featureName[self.featureName.featureName == self.lay_name].directory.values[0],self.lay_name)).spatialReference\n",
    "        self.lay_apth = self.featureName[self.featureName.featureName == benchmark_lay].directory.values[0]\n",
    "    def clip(self,row):\n",
    "        pass\n",
    "    \n",
    "    def clip_all(self):\n",
    "        LayerDf = self.featureName[self.featureName.featureName != self.lay_name].copy()\n",
    "        setname_list = self.featureName.setname.drop_duplicates().values\n",
    "        ben_lay = self.featureName[self.featureName.featureName == self.lay_name].directory.values[0]\n",
    "        print(os.path.join(ben_lay,self.lay_name))\n",
    "        with arcpy.SearchCursor(os.path.join(ben_lay,self.lay_name),(self.saveName_field,\"SHAPE@\")) as cur:\n",
    "            for row in cur:\n",
    "                arcpy.management.CreateFileGDB(self.save,f\"{row[0]}.gdb\",\"CURRENT\")\n",
    "                for s in setname_list:\n",
    "                    arcpy.management.CreateFeatureDataset(os.path.join(self.save,f\"{row[0]}.gdb\"),s,self.spatialReference)\n",
    "                # 导出基准图形\n",
    "                path = os.path.join(self.save,row[0],f\"{row[0]}.gdb\",Path(self.lay_path).name,self.lay_name)\n",
    "                self.exportFeatures(os.path.join(self.lay_path,self.lay_name),path,f\"{self.saveName_field}='{row[0]}'\")\n",
    "                LayerDf.apply(self.clip)\n",
    "                \n",
    "    # def exportFeatures(lay,save,where):\n",
    "    #     arcpy.conversion.ExportFeatures(lay,save,where)"
   ]
  },
  {
   "cell_type": "code",
   "execution_count": 42,
   "metadata": {},
   "outputs": [
    {
     "name": "stdout",
     "output_type": "stream",
     "text": [
      "E:\\exploitation\\webpython\\test\\500106沙坪坝区作业数据_1.gdb\\data\\XZQ\n"
     ]
    },
    {
     "ename": "AttributeError",
     "evalue": "__enter__",
     "output_type": "error",
     "traceback": [
      "\u001b[1;31m---------------------------------------------------------------------------\u001b[0m",
      "\u001b[1;31mAttributeError\u001b[0m                            Traceback (most recent call last)",
      "\u001b[1;32m<ipython-input-42-69b4174ec737>\u001b[0m in \u001b[0;36m<module>\u001b[1;34m\u001b[0m\n\u001b[0;32m      2\u001b[0m \u001b[1;33m\u001b[0m\u001b[0m\n\u001b[0;32m      3\u001b[0m \u001b[1;31m# cr.clip_all()\u001b[0m\u001b[1;33m\u001b[0m\u001b[1;33m\u001b[0m\u001b[0m\n\u001b[1;32m----> 4\u001b[1;33m \u001b[0mcr\u001b[0m\u001b[1;33m.\u001b[0m\u001b[0mclip_all\u001b[0m\u001b[1;33m(\u001b[0m\u001b[1;33m)\u001b[0m\u001b[1;33m\u001b[0m\u001b[1;33m\u001b[0m\u001b[0m\n\u001b[0m",
      "\u001b[1;32m<ipython-input-41-c61901e995f5>\u001b[0m in \u001b[0;36mclip_all\u001b[1;34m(self)\u001b[0m\n\u001b[0;32m     25\u001b[0m         \u001b[0mben_lay\u001b[0m \u001b[1;33m=\u001b[0m \u001b[0mself\u001b[0m\u001b[1;33m.\u001b[0m\u001b[0mfeatureName\u001b[0m\u001b[1;33m[\u001b[0m\u001b[0mself\u001b[0m\u001b[1;33m.\u001b[0m\u001b[0mfeatureName\u001b[0m\u001b[1;33m.\u001b[0m\u001b[0mfeatureName\u001b[0m \u001b[1;33m==\u001b[0m \u001b[0mself\u001b[0m\u001b[1;33m.\u001b[0m\u001b[0mlay_name\u001b[0m\u001b[1;33m]\u001b[0m\u001b[1;33m.\u001b[0m\u001b[0mdirectory\u001b[0m\u001b[1;33m.\u001b[0m\u001b[0mvalues\u001b[0m\u001b[1;33m[\u001b[0m\u001b[1;36m0\u001b[0m\u001b[1;33m]\u001b[0m\u001b[1;33m\u001b[0m\u001b[1;33m\u001b[0m\u001b[0m\n\u001b[0;32m     26\u001b[0m         \u001b[0mprint\u001b[0m\u001b[1;33m(\u001b[0m\u001b[0mos\u001b[0m\u001b[1;33m.\u001b[0m\u001b[0mpath\u001b[0m\u001b[1;33m.\u001b[0m\u001b[0mjoin\u001b[0m\u001b[1;33m(\u001b[0m\u001b[0mben_lay\u001b[0m\u001b[1;33m,\u001b[0m\u001b[0mself\u001b[0m\u001b[1;33m.\u001b[0m\u001b[0mlay_name\u001b[0m\u001b[1;33m)\u001b[0m\u001b[1;33m)\u001b[0m\u001b[1;33m\u001b[0m\u001b[1;33m\u001b[0m\u001b[0m\n\u001b[1;32m---> 27\u001b[1;33m         \u001b[1;32mwith\u001b[0m \u001b[0marcpy\u001b[0m\u001b[1;33m.\u001b[0m\u001b[0mSearchCursor\u001b[0m\u001b[1;33m(\u001b[0m\u001b[0mos\u001b[0m\u001b[1;33m.\u001b[0m\u001b[0mpath\u001b[0m\u001b[1;33m.\u001b[0m\u001b[0mjoin\u001b[0m\u001b[1;33m(\u001b[0m\u001b[0mben_lay\u001b[0m\u001b[1;33m,\u001b[0m\u001b[0mself\u001b[0m\u001b[1;33m.\u001b[0m\u001b[0mlay_name\u001b[0m\u001b[1;33m)\u001b[0m\u001b[1;33m,\u001b[0m\u001b[1;33m(\u001b[0m\u001b[0mself\u001b[0m\u001b[1;33m.\u001b[0m\u001b[0msaveName_field\u001b[0m\u001b[1;33m,\u001b[0m\u001b[1;34m\"SHAPE@\"\u001b[0m\u001b[1;33m)\u001b[0m\u001b[1;33m)\u001b[0m \u001b[1;32mas\u001b[0m \u001b[0mcur\u001b[0m\u001b[1;33m:\u001b[0m\u001b[1;33m\u001b[0m\u001b[1;33m\u001b[0m\u001b[0m\n\u001b[0m\u001b[0;32m     28\u001b[0m             \u001b[1;32mfor\u001b[0m \u001b[0mrow\u001b[0m \u001b[1;32min\u001b[0m \u001b[0mcur\u001b[0m\u001b[1;33m:\u001b[0m\u001b[1;33m\u001b[0m\u001b[1;33m\u001b[0m\u001b[0m\n\u001b[0;32m     29\u001b[0m                 \u001b[0marcpy\u001b[0m\u001b[1;33m.\u001b[0m\u001b[0mmanagement\u001b[0m\u001b[1;33m.\u001b[0m\u001b[0mCreateFileGDB\u001b[0m\u001b[1;33m(\u001b[0m\u001b[0mself\u001b[0m\u001b[1;33m.\u001b[0m\u001b[0msave\u001b[0m\u001b[1;33m,\u001b[0m\u001b[1;34mf\"{row[0]}.gdb\"\u001b[0m\u001b[1;33m,\u001b[0m\u001b[1;34m\"CURRENT\"\u001b[0m\u001b[1;33m)\u001b[0m\u001b[1;33m\u001b[0m\u001b[1;33m\u001b[0m\u001b[0m\n",
      "\u001b[1;31mAttributeError\u001b[0m: __enter__"
     ]
    }
   ],
   "source": [
    "cr = Crop(r\"E:\\exploitation\\webpython\\test\\500106沙坪坝区作业数据_1.gdb\",\"XZQ\",r\"E:\\工作文档\\测试导出数据\",\"XZQMC\")\n",
    "\n",
    "# cr.clip_all()\n",
    "cr.clip_all()"
   ]
  },
  {
   "cell_type": "code",
   "execution_count": null,
   "metadata": {},
   "outputs": [],
   "source": [
    "arcpy.env.workspace = r\"E:\\exploitation\\webpython\\test\\500106沙坪坝区作业数据_1.gdb\"\n",
    "\n",
    "# Print to the Interactive window all the feature datasets in the\n",
    "#   workspace that start with the letter C.\n",
    "\n",
    "with arcpy.EnvManager(workspace = r\"E:\\exploitation\\webpython\\test\\500106沙坪坝区作业数据_1.gdb\"):\n",
    "    datasets = arcpy.ListDatasets(\"*\", \"Feature\")\n",
    "    for dataset in datasets:\n",
    "        print(dataset)\n",
    "        featureclasses = arcpy.ListFeatureClasses(feature_dataset=dataset)\n",
    "        print(featureclasses)\n",
    "        for fc in featureclasses:\n",
    "            print(fc)"
   ]
  },
  {
   "cell_type": "code",
   "execution_count": null,
   "metadata": {},
   "outputs": [],
   "source": []
  }
 ],
 "metadata": {
  "kernelspec": {
   "display_name": "Python 3",
   "language": "python",
   "name": "python3"
  },
  "language_info": {
   "codemirror_mode": {
    "name": "ipython",
    "version": 3
   },
   "file_extension": ".py",
   "mimetype": "text/x-python",
   "name": "python",
   "nbconvert_exporter": "python",
   "pygments_lexer": "ipython3",
   "version": "3.9.11"
  }
 },
 "nbformat": 4,
 "nbformat_minor": 2
}
