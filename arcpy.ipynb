{
 "cells": [
  {
   "cell_type": "code",
   "execution_count": 1,
   "metadata": {},
   "outputs": [
    {
     "name": "stdout",
     "output_type": "stream",
     "text": [
      "E:\\exploitation\\webpython\\test\\500106沙坪坝区作业数据_1.gdb\\data\\LMFW LMFW\n",
      "E:\\exploitation\\webpython\\test\\500106沙坪坝区作业数据_1.gdb\\data\\LSYD LSYD\n",
      "E:\\exploitation\\webpython\\test\\500106沙坪坝区作业数据_1.gdb\\data\\TTQ TTQ\n",
      "E:\\exploitation\\webpython\\test\\500106沙坪坝区作业数据_1.gdb\\data\\GFBQ GFBQ\n",
      "E:\\exploitation\\webpython\\test\\500106沙坪坝区作业数据_1.gdb\\data\\GCHZZ GCHZZ\n",
      "E:\\exploitation\\webpython\\test\\500106沙坪坝区作业数据_1.gdb\\data\\DLTB DLTB\n",
      "E:\\exploitation\\webpython\\test\\500106沙坪坝区作业数据_1.gdb\\data\\CZCDYD CZCDYD\n",
      "E:\\exploitation\\webpython\\test\\500106沙坪坝区作业数据_1.gdb\\data\\CJDCQ CJDCQ\n",
      "E:\\exploitation\\webpython\\test\\500106沙坪坝区作业数据_1.gdb\\data\\自提举证 自提举证\n",
      "E:\\exploitation\\webpython\\test\\500106沙坪坝区作业数据_1.gdb\\data\\CCWJQ CCWJQ\n",
      "E:\\exploitation\\webpython\\test\\500106沙坪坝区作业数据_1.gdb\\data\\XZQ XZQ\n",
      "E:\\exploitation\\webpython\\test\\500106沙坪坝区作业数据_1.gdb\\衔接图层\\C1矿山修复 C1矿山修复\n",
      "E:\\exploitation\\webpython\\test\\500106沙坪坝区作业数据_1.gdb\\衔接图层\\C2执法查处 C2执法查处\n",
      "E:\\exploitation\\webpython\\test\\500106沙坪坝区作业数据_1.gdb\\衔接图层\\C4林草湿变化核实 C4林草湿变化核实\n",
      "E:\\exploitation\\webpython\\test\\500106沙坪坝区作业数据_1.gdb\\衔接图层\\C3进出平衡实际恢复补足180 C3进出平衡实际恢复补足180\n",
      "E:\\exploitation\\webpython\\test\\500106沙坪坝区作业数据_1.gdb\\衔接图层\\A4耕地卫片 A4耕地卫片\n",
      "E:\\exploitation\\webpython\\test\\500106沙坪坝区作业数据_1.gdb\\衔接图层\\A5土地卫片 A5土地卫片\n",
      "E:\\exploitation\\webpython\\test\\500106沙坪坝区作业数据_1.gdb\\参考图层\\B4征地 B4征地\n",
      "E:\\exploitation\\webpython\\test\\500106沙坪坝区作业数据_1.gdb\\参考图层\\B1区县提供设施农用地 B1区县提供设施农用地\n",
      "E:\\exploitation\\webpython\\test\\500106沙坪坝区作业数据_1.gdb\\参考图层\\B3供地 B3供地\n",
      "E:\\exploitation\\webpython\\test\\500106沙坪坝区作业数据_1.gdb\\参考图层\\A3部里设施农用地 A3部里设施农用地\n",
      "E:\\exploitation\\webpython\\test\\500106沙坪坝区作业数据_1.gdb\\参考图层\\A2部里临时用地 A2部里临时用地\n",
      "E:\\exploitation\\webpython\\test\\500106沙坪坝区作业数据_1.gdb\\参考图层\\A1部里建设用地审批备案 A1部里建设用地审批备案\n",
      "E:\\exploitation\\webpython\\test\\500106沙坪坝区作业数据_1.gdb\\参考图层\\B2退耕还林参考图层 B2退耕还林参考图层\n"
     ]
    }
   ],
   "source": [
    "# -*- coding: utf-8 -*-\n",
    "\n",
    "import arcpy\n",
    "import os\n",
    "\n",
    "def FeatureClassGenerator(workspace, wild_card, feature_type, recursive) :\n",
    "  with arcpy.EnvManager(workspace = workspace):\n",
    "\n",
    "    dataset_list = [\"\"]\n",
    "    if recursive:\n",
    "      datasets = arcpy.ListDatasets()\n",
    "      dataset_list.extend(datasets)\n",
    "\n",
    "    for dataset in dataset_list:\n",
    "      featureclasses = arcpy.ListFeatureClasses(wild_card, feature_type, dataset)\n",
    "      for fc in featureclasses:\n",
    "        yield os.path.join(workspace, dataset, fc), fc\n",
    "\n",
    "\n",
    "def Model2():  # 模型2\n",
    "\n",
    "    # To allow overwriting outputs change overwriteOutput option to True.\n",
    "    arcpy.env.overwriteOutput = False\n",
    "\n",
    "    _500106沙坪坝区作业数据_1_gdb = \"E:\\\\exploitation\\\\webpython\\\\test\\\\500106沙坪坝区作业数据_1.gdb\"\n",
    "\n",
    "    for LMFW, 名称 in FeatureClassGenerator(_500106沙坪坝区作业数据_1_gdb, \"\", \"POLYGON\", \"NOT_RECURSIVE\"):\n",
    "        print(LMFW, 名称)\n",
    "        pass\n",
    "\n",
    "if __name__ == '__main__':\n",
    "    # Global Environment settings\n",
    "    with arcpy.EnvManager(scratchWorkspace=r\"C:\\Users\\Administrator\\Documents\\ArcGIS\\Projects\\MyProject1\\MyProject1.gdb\", workspace=r\"C:\\Users\\Administrator\\Documents\\ArcGIS\\Projects\\MyProject1\\MyProject1.gdb\"):\n",
    "        Model2()"
   ]
  },
  {
   "cell_type": "code",
   "execution_count": null,
   "metadata": {},
   "outputs": [],
   "source": []
  }
 ],
 "metadata": {
  "kernelspec": {
   "display_name": "Python 3",
   "language": "python",
   "name": "python3"
  },
  "language_info": {
   "codemirror_mode": {
    "name": "ipython",
    "version": 3
   },
   "file_extension": ".py",
   "mimetype": "text/x-python",
   "name": "python",
   "nbconvert_exporter": "python",
   "pygments_lexer": "ipython3",
   "version": "3.9.11"
  }
 },
 "nbformat": 4,
 "nbformat_minor": 2
}
