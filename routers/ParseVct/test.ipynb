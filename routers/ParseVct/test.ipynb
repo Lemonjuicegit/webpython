{
 "cells": [
  {
   "cell_type": "code",
   "execution_count": 3,
   "metadata": {},
   "outputs": [
    {
     "ename": "ImportError",
     "evalue": "attempted relative import with no known parent package",
     "output_type": "error",
     "traceback": [
      "\u001b[1;31m---------------------------------------------------------------------------\u001b[0m",
      "\u001b[1;31mImportError\u001b[0m                               Traceback (most recent call last)",
      "\u001b[1;32me:\\exploitation\\webpython\\routers\\ParseVct\\test.ipynb 单元格 1\u001b[0m line \u001b[0;36m1\n\u001b[1;32m----> <a href='vscode-notebook-cell:/e%3A/exploitation/webpython/routers/ParseVct/test.ipynb#W0sZmlsZQ%3D%3D?line=0'>1</a>\u001b[0m \u001b[39mfrom\u001b[39;00m \u001b[39mParseVct\u001b[39;00m \u001b[39mimport\u001b[39;00m Vct\n\u001b[0;32m      <a href='vscode-notebook-cell:/e%3A/exploitation/webpython/routers/ParseVct/test.ipynb#W0sZmlsZQ%3D%3D?line=1'>2</a>\u001b[0m vct \u001b[39m=\u001b[39m Vct(\u001b[39mr\u001b[39m\u001b[39m'\u001b[39m\u001b[39mE:\u001b[39m\u001b[39m\\\u001b[39m\u001b[39m工作文档\u001b[39m\u001b[39m\\\u001b[39m\u001b[39m(500104)2023年度国土变更调查数据库更新成果\u001b[39m\u001b[39m\\\u001b[39m\u001b[39m更新数据包\u001b[39m\u001b[39m\\\u001b[39m\u001b[39m标准格式数据\u001b[39m\u001b[39m\\\u001b[39m\u001b[39m2001H2023500104GX.vct\u001b[39m\u001b[39m'\u001b[39m)\n\u001b[0;32m      <a href='vscode-notebook-cell:/e%3A/exploitation/webpython/routers/ParseVct/test.ipynb#W0sZmlsZQ%3D%3D?line=2'>3</a>\u001b[0m \u001b[39mprint\u001b[39m(vct\u001b[39m.\u001b[39mFeatureCode)\n",
      "File \u001b[1;32me:\\exploitation\\webpython\\routers\\ParseVct\\ParseVct.py:2\u001b[0m\n\u001b[0;32m      1\u001b[0m \u001b[39mimport\u001b[39;00m \u001b[39mre\u001b[39;00m\n\u001b[1;32m----> 2\u001b[0m \u001b[39mfrom\u001b[39;00m \u001b[39m.\u001b[39;00m \u001b[39mimport\u001b[39;00m reElementSplit,reElement\n\u001b[0;32m      3\u001b[0m \u001b[39mfrom\u001b[39;00m \u001b[39m.\u001b[39;00m\u001b[39mComment\u001b[39;00m \u001b[39mimport\u001b[39;00m Comment\n\u001b[0;32m      4\u001b[0m \u001b[39mfrom\u001b[39;00m \u001b[39m.\u001b[39;00m\u001b[39mHead\u001b[39;00m \u001b[39mimport\u001b[39;00m Head\n",
      "\u001b[1;31mImportError\u001b[0m: attempted relative import with no known parent package"
     ]
    }
   ],
   "source": [
    "from ParseVct import Vct\n",
    "vct = Vct(r'E:\\工作文档\\(500104)2023年度国土变更调查数据库更新成果\\更新数据包\\标准格式数据\\2001H2023500104GX.vct')\n",
    "print(vct.FeatureCode)"
   ]
  },
  {
   "cell_type": "code",
   "execution_count": 1,
   "metadata": {},
   "outputs": [
    {
     "name": "stdout",
     "output_type": "stream",
     "text": [
      "设置属性时执行的代码1\n",
      "获取属性时执行的代码\n",
      "1\n"
     ]
    }
   ],
   "source": [
    "class Student:\n",
    "    def __init__(self):\n",
    "        self._age = None\n",
    "\n",
    "    @property\n",
    "    def age(self):\n",
    "        print('获取属性时执行的代码')\n",
    "        return self._age\n",
    "\n",
    "    @age.setter\n",
    "    def age(self, age):\n",
    "        print(f'设置属性时执行的代码{age}')\n",
    "        self._age = age\n",
    "\n",
    "    @age.deleter\n",
    "    def age(self):\n",
    "        print('删除属性时执行的代码')\n",
    "        del self._age\n",
    "\n",
    "\n",
    "student = Student()\n",
    "student.age = 1\n",
    "print(student.age)"
   ]
  },
  {
   "cell_type": "code",
   "execution_count": 3,
   "metadata": {},
   "outputs": [
    {
     "name": "stdout",
     "output_type": "stream",
     "text": [
      "None\n"
     ]
    }
   ],
   "source": [
    "import re\n",
    "a = 'ssad农民集2'\n",
    "aa = re.search('(农民集体)|(居民组)',a)\n",
    "print(aa)"
   ]
  },
  {
   "cell_type": "code",
   "execution_count": null,
   "metadata": {},
   "outputs": [],
   "source": []
  }
 ],
 "metadata": {
  "kernelspec": {
   "display_name": "Python 3",
   "language": "python",
   "name": "python3"
  },
  "language_info": {
   "codemirror_mode": {
    "name": "ipython",
    "version": 3
   },
   "file_extension": ".py",
   "mimetype": "text/x-python",
   "name": "python",
   "nbconvert_exporter": "python",
   "pygments_lexer": "ipython3",
   "version": "3.11.6"
  }
 },
 "nbformat": 4,
 "nbformat_minor": 2
}
