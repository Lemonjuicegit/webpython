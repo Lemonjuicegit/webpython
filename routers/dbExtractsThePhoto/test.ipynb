{
 "cells": [
  {
   "cell_type": "code",
   "execution_count": 1,
   "metadata": {},
   "outputs": [
    {
     "name": "stderr",
     "output_type": "stream",
     "text": [
      "d:\\Program Files\\Python311\\Lib\\site-packages\\pyproj\\crs\\crs.py:141: FutureWarning: '+init=<authority>:<code>' syntax is deprecated. '<authority>:<code>' is the preferred initialization method. When making the change, be mindful of axis order changes: https://pyproj4.github.io/pyproj/stable/gotchas.html#axis-order-changes-in-proj-6\n",
      "  in_crs_string = _prepare_from_proj_string(in_crs_string)\n"
     ]
    }
   ],
   "source": [
    "from dbExtractsThePhoto import *\n",
    "path = r'E:\\工作文档\\(500104)大渡口区_20231221114540035.db'\n",
    "db = dbExtractsThePhoto(path)\n",
    "db.DKJBXX.to_file(r'E:\\工作文档\\(500104)大渡口区_20231221114540035\\DKJBXX.shp')\n",
    "# db.img('射线.shp')\n",
    "# db.to_fj(r'E:\\工作文档\\(500104)大渡口区_20231221114540035\\FJ.shp')\n",
    "db.img(r'E:\\工作文档\\(500104)大渡口区_20231221114540035\\筛选方位.shp')"
   ]
  },
  {
   "cell_type": "code",
   "execution_count": null,
   "metadata": {},
   "outputs": [
    {
     "data": {
      "text/plain": [
       "135.0"
      ]
     },
     "execution_count": 18,
     "metadata": {},
     "output_type": "execute_result"
    }
   ],
   "source": [
    "import math\n",
    "def angle_between_vectors(p1, p2, p3):\n",
    "    v1 = (p1[0] - p2[0], p1[1] - p2[1])\n",
    "    v2 = (p3[0] - p2[0], p3[1] - p2[1])\n",
    "    dot_product = v1[0] * v2[0] + v1[1] * v2[1]\n",
    "    mag_v1 = math.sqrt(v1[0]**2 + v1[1]**2)\n",
    "    mag_v2 = math.sqrt(v2[0]**2 + v2[1]**2)\n",
    "    cos_theta = dot_product / (mag_v1 * mag_v2)\n",
    "    angle_rad = math.acos(cos_theta)\n",
    "    angle_deg = math.degrees(angle_rad)\n",
    "    return angle_deg\n",
    "aa = angle_between_vectors((1,6),(1,3),(2,2))\n",
    "aa"
   ]
  },
  {
   "cell_type": "code",
   "execution_count": 4,
   "metadata": {},
   "outputs": [
    {
     "data": {
      "text/plain": [
       "'69'"
      ]
     },
     "execution_count": 4,
     "metadata": {},
     "output_type": "execute_result"
    }
   ],
   "source": [
    "import re\n",
    "s = 'A1:AB69'\n",
    "re.search(r'\\d+$',s).group()"
   ]
  },
  {
   "cell_type": "code",
   "execution_count": 46,
   "metadata": {},
   "outputs": [],
   "source": [
    "from shapely.geometry import  LineString\n",
    "import geopandas as gpd\n",
    "import math\n",
    "x, y = 35639932.12321607, 3254731.538298532\n",
    "\n",
    "angle_rad = math.radians(-219-90)\n",
    "# 计算直线的斜率\n",
    "k = math.tan(angle_rad)\n",
    "b = y-k*x\n",
    "x1 = x -1000/math.sqrt(1+k**2)\n",
    "y1=k*x1+b\n",
    "line =  LineString([(x,y),(x1,y1)])\n",
    "cs = gpd.GeoSeries([line],crs='EPSG:4523')\n",
    "cs.to_file('测试4.shp')"
   ]
  }
 ],
 "metadata": {
  "kernelspec": {
   "display_name": "Python 3",
   "language": "python",
   "name": "python3"
  },
  "language_info": {
   "codemirror_mode": {
    "name": "ipython",
    "version": 3
   },
   "file_extension": ".py",
   "mimetype": "text/x-python",
   "name": "python",
   "nbconvert_exporter": "python",
   "pygments_lexer": "ipython3",
   "version": "3.11.6"
  }
 },
 "nbformat": 4,
 "nbformat_minor": 2
}
