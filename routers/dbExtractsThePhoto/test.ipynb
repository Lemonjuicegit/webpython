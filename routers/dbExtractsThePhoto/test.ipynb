{
 "cells": [
  {
   "cell_type": "code",
   "execution_count": 1,
   "metadata": {},
   "outputs": [
    {
     "name": "stderr",
     "output_type": "stream",
     "text": [
      "d:\\Program Files\\Python311\\Lib\\site-packages\\pyproj\\crs\\crs.py:141: FutureWarning: '+init=<authority>:<code>' syntax is deprecated. '<authority>:<code>' is the preferred initialization method. When making the change, be mindful of axis order changes: https://pyproj4.github.io/pyproj/stable/gotchas.html#axis-order-changes-in-proj-6\n",
      "  in_crs_string = _prepare_from_proj_string(in_crs_string)\n"
     ]
    }
   ],
   "source": [
    "from dbExtractsThePhoto import *\n",
    "path = r'E:\\工作文档\\(500104)大渡口区_20231212114630062.db'\n",
    "db = dbExtractsThePhoto(path)\n",
    "# db.DKJBXX.to_file('DKJBXX.shp')\n",
    "# db.img('照片.shp')\n",
    "db.to_fj('附件.shp')"
   ]
  },
  {
   "cell_type": "code",
   "execution_count": null,
   "metadata": {},
   "outputs": [
    {
     "data": {
      "text/plain": [
       "10    None\n",
       "11    None\n",
       "12    None\n",
       "13    None\n",
       "14    None\n",
       "15    None\n",
       "16    None\n",
       "dtype: object"
      ]
     },
     "execution_count": 10,
     "metadata": {},
     "output_type": "execute_result"
    }
   ],
   "source": [
    "name = 'aa.jpg'\n",
    "\n",
    "def jpg(data):\n",
    "    with open(f\"{data.FJHXZ}.jpg\",'wb') as f:\n",
    "        f.write(data.FJ)\n",
    "\n",
    "db.FJ[db.FJ.DKBSM == '7fd0932101bb4f1e997145a21ca7a75a'].apply(jpg,axis=1)"
   ]
  },
  {
   "cell_type": "code",
   "execution_count": null,
   "metadata": {},
   "outputs": [
    {
     "data": {
      "text/plain": [
       "135.0"
      ]
     },
     "execution_count": 18,
     "metadata": {},
     "output_type": "execute_result"
    }
   ],
   "source": [
    "import math\n",
    "def angle_between_vectors(p1, p2, p3):\n",
    "    v1 = (p1[0] - p2[0], p1[1] - p2[1])\n",
    "    v2 = (p3[0] - p2[0], p3[1] - p2[1])\n",
    "    dot_product = v1[0] * v2[0] + v1[1] * v2[1]\n",
    "    mag_v1 = math.sqrt(v1[0]**2 + v1[1]**2)\n",
    "    mag_v2 = math.sqrt(v2[0]**2 + v2[1]**2)\n",
    "    cos_theta = dot_product / (mag_v1 * mag_v2)\n",
    "    angle_rad = math.acos(cos_theta)\n",
    "    angle_deg = math.degrees(angle_rad)\n",
    "    return angle_deg\n",
    "aa = angle_between_vectors((1,6),(1,3),(2,2))\n",
    "aa"
   ]
  },
  {
   "cell_type": "code",
   "execution_count": null,
   "metadata": {},
   "outputs": [
    {
     "name": "stdout",
     "output_type": "stream",
     "text": [
      "直线方程为: y - 2 = 0.9999999999999997 * (x - 2)\n"
     ]
    }
   ],
   "source": [
    "import math\n",
    "\n",
    "# 已知点的坐标和角度\n",
    "x1 = 2\n",
    "y1 = 2\n",
    "angle_deg = 225  # 角度\n",
    "\n",
    "# 将角度转换为弧度\n",
    "angle_rad = math.radians(angle_deg)\n",
    "\n",
    "# 计算直线的斜率\n",
    "slope = math.tan(angle_rad)\n",
    "\n",
    "# 输出直线方程\n",
    "print(f\"直线方程为: y - {y1} = {slope} * (x - {x1})\")"
   ]
  },
  {
   "cell_type": "code",
   "execution_count": null,
   "metadata": {},
   "outputs": [
    {
     "name": "stdout",
     "output_type": "stream",
     "text": [
      "Point 2: (9.403124237432849, -7.4031242374328485), Point 3: (-3.4031242374328485, 5.4031242374328485)\n"
     ]
    }
   ],
   "source": [
    "# 直线方程 y = kx + b\n",
    "# 点的坐标 (x1, y1)\n",
    "# 距离 d\n",
    "# 求另外两个点的坐标 (x2, y2), (x3, y3)\n",
    "\n",
    "import math\n",
    "\n",
    "def find_points(point, distance):\n",
    "    \n",
    "    k = -1\n",
    "    b = 2\n",
    "    # 获取点的坐标\n",
    "    x1, y1 = point\n",
    "\n",
    "    # 计算另外一个点的坐标\n",
    "    x2 = x1 + math.sqrt(distance**2 + abs((k*x1 + b - y1)**2))\n",
    "    y2 = k*x2 + b\n",
    "\n",
    "    # 计算另外一个点的坐标\n",
    "    x3 = x1 - math.sqrt(distance**2 + abs((k*x1 + b - y1)**2))\n",
    "    y3 = k*x3 + b\n",
    "\n",
    "    return f\"Point 2: ({x2}, {y2}), Point 3: ({x3}, {y3})\"\n",
    "\n",
    "res = find_points((3,3),5)\n",
    "\n",
    "\n",
    "print(res)"
   ]
  },
  {
   "cell_type": "code",
   "execution_count": 7,
   "metadata": {},
   "outputs": [],
   "source": [
    "from shapely.geometry import  LineString\n",
    "\n",
    "x, y = 35639491.31403728, 3254164.029724221\n",
    "\n",
    "angle_rad = math.radians(352+90)\n",
    "# 计算直线的斜率\n",
    "k = math.tan(angle_rad)\n",
    "b = y-k*x\n",
    "x1 = x + math.sqrt(1000**2 + (k*x + b - y)**2)\n",
    "y1=k*x1+b\n",
    "line =  LineString([(x,y),(x1,y1)])\n",
    "cs = gpd.GeoSeries([line],crs='EPSG:4523')\n",
    "cs.to_file('测试.shp')"
   ]
  },
  {
   "cell_type": "code",
   "execution_count": null,
   "metadata": {},
   "outputs": [
    {
     "name": "stderr",
     "output_type": "stream",
     "text": [
      "d:\\Program Files\\Python311\\Lib\\site-packages\\pyproj\\crs\\crs.py:141: FutureWarning: '+init=<authority>:<code>' syntax is deprecated. '<authority>:<code>' is the preferred initialization method. When making the change, be mindful of axis order changes: https://pyproj4.github.io/pyproj/stable/gotchas.html#axis-order-changes-in-proj-6\n",
      "  in_crs_string = _prepare_from_proj_string(in_crs_string)\n"
     ]
    }
   ],
   "source": [
    "from dbExtractsThePhoto import *\n",
    "path = r'E:\\工作文档\\(500104)大渡口区_20231212114630062.db'\n",
    "db = dbExtractsThePhoto(path)\n",
    "# db.DKJBXX.to_file('DKJBXX.shp')\n",
    "# db.img('照片.shp')\n",
    "db.to_fj('附件.shp')"
   ]
  },
  {
   "cell_type": "code",
   "execution_count": null,
   "metadata": {},
   "outputs": [
    {
     "name": "stderr",
     "output_type": "stream",
     "text": [
      "d:\\Program Files\\Python311\\Lib\\site-packages\\pyproj\\crs\\crs.py:141: FutureWarning: '+init=<authority>:<code>' syntax is deprecated. '<authority>:<code>' is the preferred initialization method. When making the change, be mindful of axis order changes: https://pyproj4.github.io/pyproj/stable/gotchas.html#axis-order-changes-in-proj-6\n",
      "  in_crs_string = _prepare_from_proj_string(in_crs_string)\n"
     ]
    }
   ],
   "source": [
    "from dbExtractsThePhoto import *\n",
    "path = r'E:\\工作文档\\(500104)大渡口区_20231212114630062.db'\n",
    "db = dbExtractsThePhoto(path)\n",
    "# db.DKJBXX.to_file('DKJBXX.shp')\n",
    "# db.img('照片.shp')\n",
    "db.to_fj('附件.shp')"
   ]
  },
  {
   "cell_type": "code",
   "execution_count": null,
   "metadata": {},
   "outputs": [],
   "source": []
  }
 ],
 "metadata": {
  "kernelspec": {
   "display_name": "Python 3",
   "language": "python",
   "name": "python3"
  },
  "language_info": {
   "codemirror_mode": {
    "name": "ipython",
    "version": 3
   },
   "file_extension": ".py",
   "mimetype": "text/x-python",
   "name": "python",
   "nbconvert_exporter": "python",
   "pygments_lexer": "ipython3",
   "version": "3.11.6"
  }
 },
 "nbformat": 4,
 "nbformat_minor": 2
}
