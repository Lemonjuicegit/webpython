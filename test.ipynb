{
 "cells": [
  {
   "cell_type": "code",
   "execution_count": 7,
   "metadata": {},
   "outputs": [],
   "source": [
    "import geopandas as gpd \n",
    "import pandas as pd\n",
    "from shapely.geometry import MultiLineString\n",
    "import json,re\n",
    "gdb = r\"E:\\工作文档\\gdb数据\\SSPB1_1.gdb\"\n",
    "ZD = gpd.read_file(r\"E:\\exploitation\\webpython\\test\\test.shp\")\n",
    "ZD.to_file('./test/test.geodatabase',driver=\"SQLite\")"
   ]
  },
  {
   "cell_type": "code",
   "execution_count": 4,
   "metadata": {},
   "outputs": [],
   "source": [
    "# 编宗地代码\n",
    "for djq in df.DJZQDM.drop_duplicates():\n",
    "    if djq[:9] == '500118001':\n",
    "        n = 1\n",
    "        for index,row in df[df.DJZQDM == djq].iterrows():\n",
    "            df.loc[index,'宗地代码'] = f\"{djq}JA1{'0'*(4-len(str(n)))}{n}\"\n",
    "            n+=1\n",
    "df.to_excel(r'E:\\工作文档\\中山路街道宗地代码整理.xlsx',index=False)"
   ]
  },
  {
   "cell_type": "code",
   "execution_count": 1,
   "metadata": {},
   "outputs": [
    {
     "name": "stderr",
     "output_type": "stream",
     "text": [
      "C:\\Users\\Administrator\\AppData\\Local\\Temp\\ipykernel_25796\\708499541.py:8: UserWarning: Column names longer than 10 characters will be truncated when saved to ESRI Shapefile.\n",
      "  gdf_.to_file(save,encoding='gb18030')\n"
     ]
    }
   ],
   "source": [
    "import geopandas as gpd \n",
    "def zdfield(tfhgdb,gdf_,save):\n",
    "    tfhshp = gpd.read_file(tfhgdb,layer='ZD_SpatialJoin8')\n",
    "    def tfhs(row):\n",
    "        return '、'.join(set(tfhshp[tfhshp.ZDDM == row.ZDDM].NEWMAPNO.values))\n",
    "    gdf_.TFH = gdf_.apply(tfhs,axis=1)\n",
    "    \n",
    "    gdf_.to_file(save,encoding='gb18030')\n",
    "\n",
    "gdf = gpd.read_file(r'E:\\工作文档\\三教剩下社.gdb',layer='ZD')\n",
    "gdf['BDCDYH'] = ''\n",
    "gdf['TFH'] = ''\n",
    "gdf['飞地坐落'] = ''\n",
    "gdf['ZDMJ'] = 0\n",
    "gdf['ZDMJ'].astype('int32')\n",
    "gdf['TDZL'] = ''\n",
    "gdf['FRDB'] = ''\n",
    "gdf['LXDH'] = ''\n",
    "gdf['ZJHM'] = ''\n",
    "gdf['SZD'] = ''\n",
    "gdf['SZX'] = ''\n",
    "gdf['SZB'] = ''\n",
    "gdf['SZN'] = ''\n",
    "gdf['FDQK'] = ''\n",
    "gdf['QSLY'] = ''\n",
    "zdfield(r'C:\\Users\\Administrator\\Documents\\ArcGIS\\Projects\\MyProject1\\MyProject1.gdb',gdf,r'E:\\工作文档\\三教剩下社宗地.shp')"
   ]
  },
  {
   "cell_type": "code",
   "execution_count": 7,
   "metadata": {},
   "outputs": [],
   "source": [
    "import pandas as pd\n",
    "import geopandas as gdf\n",
    "df  = gdf.read_file(r'C:\\Program Files\\feiq\\Recv Files\\坡度赋值.gdb',layter='坡度赋值')\n",
    "field = '唯一值'\n",
    "mjfield = 'Shape_Area'\n",
    "save_path = r'E:\\工作文档\\gdb数据\\最大面积.xlsx'\n",
    "eq = df[field].drop_duplicates()\n",
    "sa = pd.DataFrame(columns=['BH','PDJB'])\n",
    "n = 0\n",
    "for value in eq:\n",
    "    mjmax = max(df[df[field] == value][mjfield])\n",
    "    \n",
    "    sa.loc[n] = [value,df[(df[field] == value) & (df[mjfield] == mjmax)].PDJB.values[0]]\n",
    "    n+=1\n",
    "sa.to_excel(save_path,index=False)"
   ]
  },
  {
   "cell_type": "code",
   "execution_count": 11,
   "metadata": {},
   "outputs": [
    {
     "name": "stdout",
     "output_type": "stream",
     "text": [
      "{'500118001018JA10048'}\n"
     ]
    }
   ],
   "source": [
    "import geopandas as gpd \n",
    "gdf = gpd.read_file(r'E:\\工作文档\\ZSL.gdb',layer='界址点成果')\n",
    "zddms = gdf.ZDDM.drop_duplicates()\n",
    "zddmlist = []\n",
    "def a(row):\n",
    "    jadh = gdf[gdf.ZDDM == row].JZD_NEW\n",
    "    if 'J1' not in list(jadh):\n",
    "        zddmlist.append(row)\n",
    "zddms.map(a)\n",
    "print(set(zddmlist))"
   ]
  },
  {
   "cell_type": "code",
   "execution_count": 4,
   "metadata": {},
   "outputs": [
    {
     "data": {
      "text/plain": [
       "{'DXF': 'rw',\n",
       " 'CSV': 'raw',\n",
       " 'OpenFileGDB': 'raw',\n",
       " 'ESRIJSON': 'r',\n",
       " 'ESRI Shapefile': 'raw',\n",
       " 'FlatGeobuf': 'raw',\n",
       " 'GeoJSON': 'raw',\n",
       " 'GeoJSONSeq': 'raw',\n",
       " 'GPKG': 'raw',\n",
       " 'GML': 'rw',\n",
       " 'OGR_GMT': 'rw',\n",
       " 'GPX': 'rw',\n",
       " 'Idrisi': 'r',\n",
       " 'MapInfo File': 'raw',\n",
       " 'DGN': 'raw',\n",
       " 'PCIDSK': 'raw',\n",
       " 'OGR_PDS': 'r',\n",
       " 'S57': 'r',\n",
       " 'SQLite': 'raw',\n",
       " 'TopoJSON': 'r'}"
      ]
     },
     "execution_count": 4,
     "metadata": {},
     "output_type": "execute_result"
    }
   ],
   "source": [
    "import fiona\n",
    "fiona.supported_drivers  "
   ]
  },
  {
   "cell_type": "code",
   "execution_count": 4,
   "metadata": {},
   "outputs": [],
   "source": [
    "import geopandas as gpd\n",
    "from shapely.geometry import Polygon\n",
    "gdf = gpd.read_file(r'E:\\exploitation\\webpython\\test\\test2.shp')\n",
    "\n",
    "arrx = gdf.loc[0,'geometry'].boundary.xy[0]\n",
    "arry = gdf.loc[0,'geometry'].boundary.xy[1]\n",
    "arrx[3] = 57398.0\n",
    "arry[3] = 63814.0\n",
    "p = Polygon(zip(arrx,arry))\n",
    "gdf.loc[0,'geometry']=p\n",
    "gdf.to_file(r'E:\\exploitation\\webpython\\test\\test3.shp',encoding='gb18030')"
   ]
  },
  {
   "cell_type": "code",
   "execution_count": 6,
   "metadata": {},
   "outputs": [
    {
     "name": "stdout",
     "output_type": "stream",
     "text": [
      "XZQMC                                                      None\n",
      "DZJGH                                                      None\n",
      "YDDW                                                       None\n",
      "GYFS                                                       None\n",
      "TDYT                                                       None\n",
      "PZWH                                                       None\n",
      "HTBH                                                       None\n",
      "ZMJ                                                         0.0\n",
      "CRMJ                                                        0.0\n",
      "HBMJ                                               38856.706754\n",
      "TXJSMJ                                                      0.0\n",
      "XMMC                       Á½½­ÐÂÇø¡ª³¤ÊÙÇø¿ìËÙÍ¨µÀ£¨Óå±±Çø¶Î£©\n",
      "ZDWZ                                                       None\n",
      "NF                                                         None\n",
      "BZ                                                         None\n",
      "LAYER1                                                     None\n",
      "Shape_Leng                                                  0.0\n",
      "Shape_Area                                                  0.0\n",
      "BH                                                            0\n",
      "YXJ                                                           0\n",
      "priority                                                      0\n",
      "pror                                                        0.0\n",
      "QLRMC                            ÖØÇì¾ÅÁúÔ°¸ßÐÂ²úÒµ¼¯ÍÅÓÐÏÞ¹«Ë¾\n",
      "geometry      POLYGON ((36388490.19892578 3302596.0061336346...\n",
      "Name: 0, dtype: object\n",
      "XZQMC                                                      None\n",
      "DZJGH                                                      None\n",
      "YDDW                                                       None\n",
      "GYFS                                                       None\n",
      "TDYT                                                       None\n",
      "PZWH                                                       None\n",
      "HTBH                                                       None\n",
      "ZMJ                                                         0.0\n",
      "CRMJ                                                        0.0\n",
      "HBMJ                                               26997.939206\n",
      "TXJSMJ                                                      0.0\n",
      "XMMC                       Á½½­ÐÂÇø¡ª³¤ÊÙÇø¿ìËÙÍ¨µÀ£¨Óå±±Çø¶Î£©\n",
      "ZDWZ                                                       None\n",
      "NF                                                         None\n",
      "BZ                                                         None\n",
      "LAYER1                                                     None\n",
      "Shape_Leng                                                  0.0\n",
      "Shape_Area                                                  0.0\n",
      "BH                                                            0\n",
      "YXJ                                                           0\n",
      "priority                                                      0\n",
      "pror                                                        0.0\n",
      "QLRMC                                      ÖØÇìÉÏ²ÊÖÃÒµÓÐÏÞ¹«Ë¾\n",
      "geometry      POLYGON ((36388720.843001455 3302745.330703621...\n",
      "Name: 1, dtype: object\n"
     ]
    },
    {
     "data": {
      "text/plain": [
       "0    None\n",
       "1    None\n",
       "dtype: object"
      ]
     },
     "execution_count": 6,
     "metadata": {},
     "output_type": "execute_result"
    }
   ],
   "source": [
    "import pandas as pd \n",
    "import geopandas as gpd\n",
    "def a(row):\n",
    "    print(row)\n",
    "\n",
    "gdf = gpd.read_file(r'E:\\exploitation\\webpython\\test\\test2.shp')\n",
    "gdf.apply(a,axis=1)"
   ]
  },
  {
   "cell_type": "code",
   "execution_count": 2,
   "metadata": {},
   "outputs": [
    {
     "ename": "KeyboardInterrupt",
     "evalue": "",
     "output_type": "error",
     "traceback": [
      "\u001b[1;31m---------------------------------------------------------------------------\u001b[0m",
      "\u001b[1;31mKeyboardInterrupt\u001b[0m                         Traceback (most recent call last)",
      "\u001b[1;32me:\\exploitation\\webpython\\test.ipynb 单元格 9\u001b[0m line \u001b[0;36m7\n\u001b[0;32m      <a href='vscode-notebook-cell:/e%3A/exploitation/webpython/test.ipynb#X11sZmlsZQ%3D%3D?line=4'>5</a>\u001b[0m y2 \u001b[39m=\u001b[39m \u001b[39m8\u001b[39m\n\u001b[0;32m      <a href='vscode-notebook-cell:/e%3A/exploitation/webpython/test.ipynb#X11sZmlsZQ%3D%3D?line=5'>6</a>\u001b[0m qe \u001b[39m=\u001b[39m quadraticEquation(x1,y1,x2,y2)\n\u001b[1;32m----> <a href='vscode-notebook-cell:/e%3A/exploitation/webpython/test.ipynb#X11sZmlsZQ%3D%3D?line=6'>7</a>\u001b[0m qe\u001b[39m.\u001b[39mk\n",
      "\u001b[1;32me:\\exploitation\\webpython\\test.ipynb 单元格 9\u001b[0m line \u001b[0;36m7\n\u001b[0;32m      <a href='vscode-notebook-cell:/e%3A/exploitation/webpython/test.ipynb#X11sZmlsZQ%3D%3D?line=4'>5</a>\u001b[0m y2 \u001b[39m=\u001b[39m \u001b[39m8\u001b[39m\n\u001b[0;32m      <a href='vscode-notebook-cell:/e%3A/exploitation/webpython/test.ipynb#X11sZmlsZQ%3D%3D?line=5'>6</a>\u001b[0m qe \u001b[39m=\u001b[39m quadraticEquation(x1,y1,x2,y2)\n\u001b[1;32m----> <a href='vscode-notebook-cell:/e%3A/exploitation/webpython/test.ipynb#X11sZmlsZQ%3D%3D?line=6'>7</a>\u001b[0m qe\u001b[39m.\u001b[39mk\n",
      "File \u001b[1;32m_pydevd_bundle/pydevd_cython.pyx:1457\u001b[0m, in \u001b[0;36m_pydevd_bundle.pydevd_cython.SafeCallWrapper.__call__\u001b[1;34m()\u001b[0m\n",
      "File \u001b[1;32m_pydevd_bundle/pydevd_cython.pyx:701\u001b[0m, in \u001b[0;36m_pydevd_bundle.pydevd_cython.PyDBFrame.trace_dispatch\u001b[1;34m()\u001b[0m\n",
      "File \u001b[1;32m_pydevd_bundle/pydevd_cython.pyx:1152\u001b[0m, in \u001b[0;36m_pydevd_bundle.pydevd_cython.PyDBFrame.trace_dispatch\u001b[1;34m()\u001b[0m\n",
      "File \u001b[1;32m_pydevd_bundle/pydevd_cython.pyx:1135\u001b[0m, in \u001b[0;36m_pydevd_bundle.pydevd_cython.PyDBFrame.trace_dispatch\u001b[1;34m()\u001b[0m\n",
      "File \u001b[1;32m_pydevd_bundle/pydevd_cython.pyx:312\u001b[0m, in \u001b[0;36m_pydevd_bundle.pydevd_cython.PyDBFrame.do_wait_suspend\u001b[1;34m()\u001b[0m\n",
      "File \u001b[1;32md:\\Program Files\\Python311\\Lib\\site-packages\\debugpy\\_vendored\\pydevd\\pydevd.py:2070\u001b[0m, in \u001b[0;36mPyDB.do_wait_suspend\u001b[1;34m(self, thread, frame, event, arg, exception_type)\u001b[0m\n\u001b[0;32m   2067\u001b[0m             from_this_thread\u001b[39m.\u001b[39mappend(frame_custom_thread_id)\n\u001b[0;32m   2069\u001b[0m     \u001b[39mwith\u001b[39;00m \u001b[39mself\u001b[39m\u001b[39m.\u001b[39m_threads_suspended_single_notification\u001b[39m.\u001b[39mnotify_thread_suspended(thread_id, thread, stop_reason):\n\u001b[1;32m-> 2070\u001b[0m         keep_suspended \u001b[39m=\u001b[39m \u001b[39mself\u001b[39;49m\u001b[39m.\u001b[39;49m_do_wait_suspend(thread, frame, event, arg, suspend_type, from_this_thread, frames_tracker)\n\u001b[0;32m   2072\u001b[0m frames_list \u001b[39m=\u001b[39m \u001b[39mNone\u001b[39;00m\n\u001b[0;32m   2074\u001b[0m \u001b[39mif\u001b[39;00m keep_suspended:\n\u001b[0;32m   2075\u001b[0m     \u001b[39m# This means that we should pause again after a set next statement.\u001b[39;00m\n",
      "File \u001b[1;32md:\\Program Files\\Python311\\Lib\\site-packages\\debugpy\\_vendored\\pydevd\\pydevd.py:2106\u001b[0m, in \u001b[0;36mPyDB._do_wait_suspend\u001b[1;34m(self, thread, frame, event, arg, suspend_type, from_this_thread, frames_tracker)\u001b[0m\n\u001b[0;32m   2103\u001b[0m         \u001b[39mself\u001b[39m\u001b[39m.\u001b[39m_call_input_hook()\n\u001b[0;32m   2105\u001b[0m     \u001b[39mself\u001b[39m\u001b[39m.\u001b[39mprocess_internal_commands()\n\u001b[1;32m-> 2106\u001b[0m     time\u001b[39m.\u001b[39msleep(\u001b[39m0.01\u001b[39m)\n\u001b[0;32m   2108\u001b[0m \u001b[39mself\u001b[39m\u001b[39m.\u001b[39mcancel_async_evaluation(get_current_thread_id(thread), \u001b[39mstr\u001b[39m(\u001b[39mid\u001b[39m(frame)))\n\u001b[0;32m   2110\u001b[0m \u001b[39m# process any stepping instructions\u001b[39;00m\n",
      "\u001b[1;31mKeyboardInterrupt\u001b[0m: "
     ]
    }
   ],
   "source": [
    "from routers.adjustArea import quadraticEquation\n",
    "x1 = 2\n",
    "x2=4\n",
    "y1 = 4\n",
    "y2 = 8\n",
    "qe = quadraticEquation(x1,y1,x2,y2)\n",
    "qe.k"
   ]
  },
  {
   "cell_type": "code",
   "execution_count": 4,
   "metadata": {},
   "outputs": [],
   "source": [
    "if 0.0:\n",
    "    print(True)"
   ]
  },
  {
   "cell_type": "code",
   "execution_count": null,
   "metadata": {},
   "outputs": [],
   "source": []
  }
 ],
 "metadata": {
  "kernelspec": {
   "display_name": "Python 3 (ipykernel)",
   "language": "python",
   "name": "python3"
  },
  "language_info": {
   "codemirror_mode": {
    "name": "ipython",
    "version": 3
   },
   "file_extension": ".py",
   "mimetype": "text/x-python",
   "name": "python",
   "nbconvert_exporter": "python",
   "pygments_lexer": "ipython3",
   "version": "3.11.6"
  }
 },
 "nbformat": 4,
 "nbformat_minor": 2
}
