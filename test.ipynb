{
 "cells": [
  {
   "cell_type": "code",
   "execution_count": 7,
   "metadata": {},
   "outputs": [],
   "source": [
    "import geopandas as gpd \n",
    "import pandas as pd\n",
    "from shapely.geometry import MultiLineString\n",
    "import json,re\n",
    "gdb = r\"E:\\工作文档\\gdb数据\\SSPB1_1.gdb\"\n",
    "ZD = gpd.read_file(r\"E:\\exploitation\\webpython\\test\\test.shp\")\n",
    "ZD.to_file('./test/test.geodatabase',driver=\"SQLite\")"
   ]
  },
  {
   "cell_type": "code",
   "execution_count": 4,
   "metadata": {},
   "outputs": [],
   "source": [
    "# 编宗地代码\n",
    "for djq in df.DJZQDM.drop_duplicates():\n",
    "    if djq[:9] == '500118001':\n",
    "        n = 1\n",
    "        for index,row in df[df.DJZQDM == djq].iterrows():\n",
    "            df.loc[index,'宗地代码'] = f\"{djq}JA1{'0'*(4-len(str(n)))}{n}\"\n",
    "            n+=1\n",
    "df.to_excel(r'E:\\工作文档\\中山路街道宗地代码整理.xlsx',index=False)"
   ]
  },
  {
   "cell_type": "code",
   "execution_count": 1,
   "metadata": {},
   "outputs": [
    {
     "name": "stderr",
     "output_type": "stream",
     "text": [
      "C:\\Users\\Administrator\\AppData\\Local\\Temp\\ipykernel_25796\\708499541.py:8: UserWarning: Column names longer than 10 characters will be truncated when saved to ESRI Shapefile.\n",
      "  gdf_.to_file(save,encoding='gb18030')\n"
     ]
    }
   ],
   "source": [
    "import geopandas as gpd \n",
    "def zdfield(tfhgdb,gdf_,save):\n",
    "    tfhshp = gpd.read_file(tfhgdb,layer='ZD_SpatialJoin8')\n",
    "    def tfhs(row):\n",
    "        return '、'.join(set(tfhshp[tfhshp.ZDDM == row.ZDDM].NEWMAPNO.values))\n",
    "    gdf_.TFH = gdf_.apply(tfhs,axis=1)\n",
    "    \n",
    "    gdf_.to_file(save,encoding='gb18030')\n",
    "\n",
    "gdf = gpd.read_file(r'E:\\工作文档\\三教剩下社.gdb',layer='ZD')\n",
    "gdf['BDCDYH'] = ''\n",
    "gdf['TFH'] = ''\n",
    "gdf['飞地坐落'] = ''\n",
    "gdf['ZDMJ'] = 0\n",
    "gdf['ZDMJ'].astype('int32')\n",
    "gdf['TDZL'] = ''\n",
    "gdf['FRDB'] = ''\n",
    "gdf['LXDH'] = ''\n",
    "gdf['ZJHM'] = ''\n",
    "gdf['SZD'] = ''\n",
    "gdf['SZX'] = ''\n",
    "gdf['SZB'] = ''\n",
    "gdf['SZN'] = ''\n",
    "gdf['FDQK'] = ''\n",
    "gdf['QSLY'] = ''\n",
    "zdfield(r'C:\\Users\\Administrator\\Documents\\ArcGIS\\Projects\\MyProject1\\MyProject1.gdb',gdf,r'E:\\工作文档\\三教剩下社宗地.shp')"
   ]
  },
  {
   "cell_type": "code",
   "execution_count": 7,
   "metadata": {},
   "outputs": [],
   "source": [
    "import pandas as pd\n",
    "import geopandas as gdf\n",
    "df  = gdf.read_file(r'C:\\Program Files\\feiq\\Recv Files\\坡度赋值.gdb',layter='坡度赋值')\n",
    "field = '唯一值'\n",
    "mjfield = 'Shape_Area'\n",
    "save_path = r'E:\\工作文档\\gdb数据\\最大面积.xlsx'\n",
    "eq = df[field].drop_duplicates()\n",
    "sa = pd.DataFrame(columns=['BH','PDJB'])\n",
    "n = 0\n",
    "for value in eq:\n",
    "    mjmax = max(df[df[field] == value][mjfield])\n",
    "    \n",
    "    sa.loc[n] = [value,df[(df[field] == value) & (df[mjfield] == mjmax)].PDJB.values[0]]\n",
    "    n+=1\n",
    "sa.to_excel(save_path,index=False)"
   ]
  },
  {
   "cell_type": "code",
   "execution_count": 11,
   "metadata": {},
   "outputs": [
    {
     "name": "stdout",
     "output_type": "stream",
     "text": [
      "{'500118001018JA10048'}\n"
     ]
    }
   ],
   "source": [
    "import geopandas as gpd \n",
    "gdf = gpd.read_file(r'E:\\工作文档\\ZSL.gdb',layer='界址点成果')\n",
    "zddms = gdf.ZDDM.drop_duplicates()\n",
    "zddmlist = []\n",
    "def a(row):\n",
    "    jadh = gdf[gdf.ZDDM == row].JZD_NEW\n",
    "    if 'J1' not in list(jadh):\n",
    "        zddmlist.append(row)\n",
    "zddms.map(a)\n",
    "print(set(zddmlist))"
   ]
  },
  {
   "cell_type": "code",
   "execution_count": 4,
   "metadata": {},
   "outputs": [
    {
     "data": {
      "text/plain": [
       "{'DXF': 'rw',\n",
       " 'CSV': 'raw',\n",
       " 'OpenFileGDB': 'raw',\n",
       " 'ESRIJSON': 'r',\n",
       " 'ESRI Shapefile': 'raw',\n",
       " 'FlatGeobuf': 'raw',\n",
       " 'GeoJSON': 'raw',\n",
       " 'GeoJSONSeq': 'raw',\n",
       " 'GPKG': 'raw',\n",
       " 'GML': 'rw',\n",
       " 'OGR_GMT': 'rw',\n",
       " 'GPX': 'rw',\n",
       " 'Idrisi': 'r',\n",
       " 'MapInfo File': 'raw',\n",
       " 'DGN': 'raw',\n",
       " 'PCIDSK': 'raw',\n",
       " 'OGR_PDS': 'r',\n",
       " 'S57': 'r',\n",
       " 'SQLite': 'raw',\n",
       " 'TopoJSON': 'r'}"
      ]
     },
     "execution_count": 4,
     "metadata": {},
     "output_type": "execute_result"
    }
   ],
   "source": [
    "import fiona\n",
    "fiona.supported_drivers  "
   ]
  },
  {
   "cell_type": "code",
   "execution_count": null,
   "metadata": {},
   "outputs": [],
   "source": [
    "lay = fiona.listlayers(r'E:\\exploitation\\webpython\\test\\500106沙坪坝区作业数据_1.gdb\\data')\n",
    "lay"
   ]
  },
  {
   "cell_type": "code",
   "execution_count": 10,
   "metadata": {},
   "outputs": [
    {
     "ename": "KeyError",
     "evalue": "'layers'",
     "output_type": "error",
     "traceback": [
      "\u001b[1;31m---------------------------------------------------------------------------\u001b[0m",
      "\u001b[1;31mKeyError\u001b[0m                                  Traceback (most recent call last)",
      "\u001b[1;32me:\\exploitation\\webpython\\test.ipynb 单元格 8\u001b[0m line \u001b[0;36m5\n\u001b[0;32m      <a href='vscode-notebook-cell:/e%3A/exploitation/webpython/test.ipynb#X54sZmlsZQ%3D%3D?line=1'>2</a>\u001b[0m \u001b[39m# 读取shp文件\u001b[39;00m\n\u001b[0;32m      <a href='vscode-notebook-cell:/e%3A/exploitation/webpython/test.ipynb#X54sZmlsZQ%3D%3D?line=2'>3</a>\u001b[0m \u001b[39mwith\u001b[39;00m collection(\u001b[39mr\u001b[39m\u001b[39m'\u001b[39m\u001b[39mE:\u001b[39m\u001b[39m\\\u001b[39m\u001b[39mexploitation\u001b[39m\u001b[39m\\\u001b[39m\u001b[39mwebpython\u001b[39m\u001b[39m\\\u001b[39m\u001b[39mtest\u001b[39m\u001b[39m\\\u001b[39m\u001b[39m500106沙坪坝区作业数据_1.gdb\u001b[39m\u001b[39m'\u001b[39m) \u001b[39mas\u001b[39;00m src:\n\u001b[0;32m      <a href='vscode-notebook-cell:/e%3A/exploitation/webpython/test.ipynb#X54sZmlsZQ%3D%3D?line=3'>4</a>\u001b[0m     \u001b[39m# 获取shp文件的层名\u001b[39;00m\n\u001b[1;32m----> <a href='vscode-notebook-cell:/e%3A/exploitation/webpython/test.ipynb#X54sZmlsZQ%3D%3D?line=4'>5</a>\u001b[0m     layers \u001b[39m=\u001b[39m [layer[\u001b[39m'\u001b[39m\u001b[39mname\u001b[39m\u001b[39m'\u001b[39m] \u001b[39mfor\u001b[39;00m layer \u001b[39min\u001b[39;00m src\u001b[39m.\u001b[39;49mschema[\u001b[39m'\u001b[39;49m\u001b[39mlayers\u001b[39;49m\u001b[39m'\u001b[39;49m]]\n\u001b[0;32m      <a href='vscode-notebook-cell:/e%3A/exploitation/webpython/test.ipynb#X54sZmlsZQ%3D%3D?line=5'>6</a>\u001b[0m     \u001b[39mprint\u001b[39m(layers)\n",
      "\u001b[1;31mKeyError\u001b[0m: 'layers'"
     ]
    }
   ],
   "source": [
    "from fiona import collection\n",
    "# 读取shp文件\n",
    "with collection(r'E:\\exploitation\\webpython\\test\\500106沙坪坝区作业数据_1.gdb') as src:\n",
    "    # 获取shp文件的层名\n",
    "    layers = [layer['name'] for layer in src.schema['layers']]\n",
    "    print(layers)"
   ]
  },
  {
   "cell_type": "code",
   "execution_count": 1,
   "metadata": {},
   "outputs": [],
   "source": [
    "from pk.Ownership import Ownership\n",
    "ow = Ownership(r'E:\\工作文档\\gdb数据\\三教13个村\\SJSSGC.gdb')"
   ]
  },
  {
   "cell_type": "code",
   "execution_count": 2,
   "metadata": {},
   "outputs": [
    {
     "name": "stdout",
     "output_type": "stream",
     "text": [
      "正在生成:500118017002JA10021\n"
     ]
    }
   ],
   "source": [
    "for res in ow.add_jzx_all():\n",
    "    print(res)"
   ]
  },
  {
   "cell_type": "code",
   "execution_count": 13,
   "metadata": {},
   "outputs": [
    {
     "ename": "KeyboardInterrupt",
     "evalue": "",
     "output_type": "error",
     "traceback": [
      "\u001b[1;31m---------------------------------------------------------------------------\u001b[0m",
      "\u001b[1;31mKeyboardInterrupt\u001b[0m                         Traceback (most recent call last)",
      "\u001b[1;32me:\\exploitation\\webpython\\test.ipynb 单元格 11\u001b[0m line \u001b[0;36m9\n\u001b[0;32m      <a href='vscode-notebook-cell:/e%3A/exploitation/webpython/test.ipynb#X60sZmlsZQ%3D%3D?line=5'>6</a>\u001b[0m gdb_database \u001b[39m=\u001b[39m fiona\u001b[39m.\u001b[39mopen(gdb_path, \u001b[39m\"\u001b[39m\u001b[39mr\u001b[39m\u001b[39m\"\u001b[39m, driver\u001b[39m=\u001b[39mdriver)  \n\u001b[0;32m      <a href='vscode-notebook-cell:/e%3A/exploitation/webpython/test.ipynb#X60sZmlsZQ%3D%3D?line=7'>8</a>\u001b[0m \u001b[39m# 获取所有数据集名称  \u001b[39;00m\n\u001b[1;32m----> <a href='vscode-notebook-cell:/e%3A/exploitation/webpython/test.ipynb#X60sZmlsZQ%3D%3D?line=8'>9</a>\u001b[0m dataset_names \u001b[39m=\u001b[39m [dataset\u001b[39m.\u001b[39msplit(\u001b[39m\"\u001b[39m\u001b[39m=\u001b[39m\u001b[39m\"\u001b[39m)[\u001b[39m1\u001b[39m] \u001b[39mfor\u001b[39;00m dataset \u001b[39min\u001b[39;00m gdb_database\u001b[39m.\u001b[39mmeta[\u001b[39m'\u001b[39m\u001b[39mDATASET\u001b[39m\u001b[39m'\u001b[39m]]  \n\u001b[0;32m     <a href='vscode-notebook-cell:/e%3A/exploitation/webpython/test.ipynb#X60sZmlsZQ%3D%3D?line=10'>11</a>\u001b[0m \u001b[39m# 打印数据集名称  \u001b[39;00m\n\u001b[0;32m     <a href='vscode-notebook-cell:/e%3A/exploitation/webpython/test.ipynb#X60sZmlsZQ%3D%3D?line=11'>12</a>\u001b[0m \u001b[39mfor\u001b[39;00m name \u001b[39min\u001b[39;00m dataset_names:  \n",
      "\u001b[1;32me:\\exploitation\\webpython\\test.ipynb 单元格 11\u001b[0m line \u001b[0;36m9\n\u001b[0;32m      <a href='vscode-notebook-cell:/e%3A/exploitation/webpython/test.ipynb#X60sZmlsZQ%3D%3D?line=5'>6</a>\u001b[0m gdb_database \u001b[39m=\u001b[39m fiona\u001b[39m.\u001b[39mopen(gdb_path, \u001b[39m\"\u001b[39m\u001b[39mr\u001b[39m\u001b[39m\"\u001b[39m, driver\u001b[39m=\u001b[39mdriver)  \n\u001b[0;32m      <a href='vscode-notebook-cell:/e%3A/exploitation/webpython/test.ipynb#X60sZmlsZQ%3D%3D?line=7'>8</a>\u001b[0m \u001b[39m# 获取所有数据集名称  \u001b[39;00m\n\u001b[1;32m----> <a href='vscode-notebook-cell:/e%3A/exploitation/webpython/test.ipynb#X60sZmlsZQ%3D%3D?line=8'>9</a>\u001b[0m dataset_names \u001b[39m=\u001b[39m [dataset\u001b[39m.\u001b[39msplit(\u001b[39m\"\u001b[39m\u001b[39m=\u001b[39m\u001b[39m\"\u001b[39m)[\u001b[39m1\u001b[39m] \u001b[39mfor\u001b[39;00m dataset \u001b[39min\u001b[39;00m gdb_database\u001b[39m.\u001b[39mmeta[\u001b[39m'\u001b[39m\u001b[39mDATASET\u001b[39m\u001b[39m'\u001b[39m]]  \n\u001b[0;32m     <a href='vscode-notebook-cell:/e%3A/exploitation/webpython/test.ipynb#X60sZmlsZQ%3D%3D?line=10'>11</a>\u001b[0m \u001b[39m# 打印数据集名称  \u001b[39;00m\n\u001b[0;32m     <a href='vscode-notebook-cell:/e%3A/exploitation/webpython/test.ipynb#X60sZmlsZQ%3D%3D?line=11'>12</a>\u001b[0m \u001b[39mfor\u001b[39;00m name \u001b[39min\u001b[39;00m dataset_names:  \n",
      "File \u001b[1;32m_pydevd_bundle/pydevd_cython.pyx:1457\u001b[0m, in \u001b[0;36m_pydevd_bundle.pydevd_cython.SafeCallWrapper.__call__\u001b[1;34m()\u001b[0m\n",
      "File \u001b[1;32m_pydevd_bundle/pydevd_cython.pyx:701\u001b[0m, in \u001b[0;36m_pydevd_bundle.pydevd_cython.PyDBFrame.trace_dispatch\u001b[1;34m()\u001b[0m\n",
      "File \u001b[1;32m_pydevd_bundle/pydevd_cython.pyx:1152\u001b[0m, in \u001b[0;36m_pydevd_bundle.pydevd_cython.PyDBFrame.trace_dispatch\u001b[1;34m()\u001b[0m\n",
      "File \u001b[1;32m_pydevd_bundle/pydevd_cython.pyx:1135\u001b[0m, in \u001b[0;36m_pydevd_bundle.pydevd_cython.PyDBFrame.trace_dispatch\u001b[1;34m()\u001b[0m\n",
      "File \u001b[1;32m_pydevd_bundle/pydevd_cython.pyx:312\u001b[0m, in \u001b[0;36m_pydevd_bundle.pydevd_cython.PyDBFrame.do_wait_suspend\u001b[1;34m()\u001b[0m\n",
      "File \u001b[1;32md:\\Program Files\\Python311\\Lib\\site-packages\\debugpy\\_vendored\\pydevd\\pydevd.py:2070\u001b[0m, in \u001b[0;36mPyDB.do_wait_suspend\u001b[1;34m(self, thread, frame, event, arg, exception_type)\u001b[0m\n\u001b[0;32m   2067\u001b[0m             from_this_thread\u001b[39m.\u001b[39mappend(frame_custom_thread_id)\n\u001b[0;32m   2069\u001b[0m     \u001b[39mwith\u001b[39;00m \u001b[39mself\u001b[39m\u001b[39m.\u001b[39m_threads_suspended_single_notification\u001b[39m.\u001b[39mnotify_thread_suspended(thread_id, thread, stop_reason):\n\u001b[1;32m-> 2070\u001b[0m         keep_suspended \u001b[39m=\u001b[39m \u001b[39mself\u001b[39;49m\u001b[39m.\u001b[39;49m_do_wait_suspend(thread, frame, event, arg, suspend_type, from_this_thread, frames_tracker)\n\u001b[0;32m   2072\u001b[0m frames_list \u001b[39m=\u001b[39m \u001b[39mNone\u001b[39;00m\n\u001b[0;32m   2074\u001b[0m \u001b[39mif\u001b[39;00m keep_suspended:\n\u001b[0;32m   2075\u001b[0m     \u001b[39m# This means that we should pause again after a set next statement.\u001b[39;00m\n",
      "File \u001b[1;32md:\\Program Files\\Python311\\Lib\\site-packages\\debugpy\\_vendored\\pydevd\\pydevd.py:2106\u001b[0m, in \u001b[0;36mPyDB._do_wait_suspend\u001b[1;34m(self, thread, frame, event, arg, suspend_type, from_this_thread, frames_tracker)\u001b[0m\n\u001b[0;32m   2103\u001b[0m         \u001b[39mself\u001b[39m\u001b[39m.\u001b[39m_call_input_hook()\n\u001b[0;32m   2105\u001b[0m     \u001b[39mself\u001b[39m\u001b[39m.\u001b[39mprocess_internal_commands()\n\u001b[1;32m-> 2106\u001b[0m     time\u001b[39m.\u001b[39msleep(\u001b[39m0.01\u001b[39m)\n\u001b[0;32m   2108\u001b[0m \u001b[39mself\u001b[39m\u001b[39m.\u001b[39mcancel_async_evaluation(get_current_thread_id(thread), \u001b[39mstr\u001b[39m(\u001b[39mid\u001b[39m(frame)))\n\u001b[0;32m   2110\u001b[0m \u001b[39m# process any stepping instructions\u001b[39;00m\n",
      "\u001b[1;31mKeyboardInterrupt\u001b[0m: "
     ]
    }
   ],
   "source": [
    "import fiona  \n",
    "  \n",
    "# 打开gdb数据库  \n",
    "gdb_path = \"E:\\\\exploitation\\\\webpython\\\\test\\\\500106沙坪坝区作业数据_1.gdb\"  \n",
    "driver = \"OpenFileGDB\"  \n",
    "gdb_database = fiona.open(gdb_path, \"r\", driver=driver)  \n",
    "  \n",
    "# 获取所有数据集名称  \n",
    "dataset_names = [dataset.split(\"=\")[1] for dataset in gdb_database.meta['DATASET']]  \n",
    "  \n",
    "# 打印数据集名称  \n",
    "for name in dataset_names:  \n",
    "    print(name)  \n",
    "  \n",
    "# 关闭gdb数据库  \n",
    "gdb_database.close()\n"
   ]
  },
  {
   "cell_type": "code",
   "execution_count": 14,
   "metadata": {},
   "outputs": [
    {
     "ename": "InterfaceError",
     "evalue": "('IM002', '[IM002] [Microsoft][ODBC 驱动程序管理器] 未发现数据源名称并且未指定默认驱动程序 (0) (SQLDriverConnect)')",
     "output_type": "error",
     "traceback": [
      "\u001b[1;31m---------------------------------------------------------------------------\u001b[0m",
      "\u001b[1;31mInterfaceError\u001b[0m                            Traceback (most recent call last)",
      "\u001b[1;32me:\\exploitation\\webpython\\test.ipynb 单元格 12\u001b[0m line \u001b[0;36m6\n\u001b[0;32m      <a href='vscode-notebook-cell:/e%3A/exploitation/webpython/test.ipynb#X63sZmlsZQ%3D%3D?line=3'>4</a>\u001b[0m gdb_path \u001b[39m=\u001b[39m \u001b[39m\"\u001b[39m\u001b[39mE:\u001b[39m\u001b[39m\\\\\u001b[39;00m\u001b[39mexploitation\u001b[39m\u001b[39m\\\\\u001b[39;00m\u001b[39mwebpython\u001b[39m\u001b[39m\\\\\u001b[39;00m\u001b[39mtest\u001b[39m\u001b[39m\\\\\u001b[39;00m\u001b[39m500106沙坪坝区作业数据_1.gdb\u001b[39m\u001b[39m\"\u001b[39m  \n\u001b[0;32m      <a href='vscode-notebook-cell:/e%3A/exploitation/webpython/test.ipynb#X63sZmlsZQ%3D%3D?line=4'>5</a>\u001b[0m driver \u001b[39m=\u001b[39m \u001b[39m'\u001b[39m\u001b[39m{EsrI.GDB.ArcObjects}\u001b[39;00m\u001b[39m'\u001b[39m \u001b[39m# 根据你的gdb数据库驱动程序进行修改  \u001b[39;00m\n\u001b[1;32m----> <a href='vscode-notebook-cell:/e%3A/exploitation/webpython/test.ipynb#X63sZmlsZQ%3D%3D?line=5'>6</a>\u001b[0m conn \u001b[39m=\u001b[39m pyodbc\u001b[39m.\u001b[39;49mconnect(\u001b[39m'\u001b[39;49m\u001b[39mDRIVER=\u001b[39;49m\u001b[39m{}\u001b[39;49;00m\u001b[39m;GDB=\u001b[39;49m\u001b[39m{}\u001b[39;49;00m\u001b[39m;\u001b[39;49m\u001b[39m'\u001b[39;49m\u001b[39m.\u001b[39;49mformat(driver, gdb_path))  \n\u001b[0;32m      <a href='vscode-notebook-cell:/e%3A/exploitation/webpython/test.ipynb#X63sZmlsZQ%3D%3D?line=7'>8</a>\u001b[0m \u001b[39m# 执行SQL查询获取数据集名称  \u001b[39;00m\n\u001b[0;32m      <a href='vscode-notebook-cell:/e%3A/exploitation/webpython/test.ipynb#X63sZmlsZQ%3D%3D?line=8'>9</a>\u001b[0m cursor \u001b[39m=\u001b[39m conn\u001b[39m.\u001b[39mcursor()  \n",
      "\u001b[1;31mInterfaceError\u001b[0m: ('IM002', '[IM002] [Microsoft][ODBC 驱动程序管理器] 未发现数据源名称并且未指定默认驱动程序 (0) (SQLDriverConnect)')"
     ]
    }
   ],
   "source": [
    "import pyodbc  \n",
    "  \n",
    "# 连接gdb数据库  \n",
    "gdb_path = \"E:\\\\exploitation\\\\webpython\\\\test\\\\500106沙坪坝区作业数据_1.gdb\"  \n",
    "driver = '{EsrI.GDB.ArcObjects}' # 根据你的gdb数据库驱动程序进行修改  \n",
    "conn = pyodbc.connect('DRIVER={};GDB={};'.format(driver, gdb_path))  \n",
    "  \n",
    "# 执行SQL查询获取数据集名称  \n",
    "cursor = conn.cursor()  \n",
    "cursor.execute(\"SELECT name FROM sys.sysdataset\") # 使用你的gdb数据库系统表和字段进行修改  \n",
    "datasets = [row[0] for row in cursor.fetchall()]  \n",
    "  \n",
    "# 打印数据集名称  \n",
    "for dataset in datasets:  \n",
    "    print(dataset)  \n",
    "  \n",
    "# 关闭数据库连接  \n",
    "conn.close()"
   ]
  },
  {
   "cell_type": "code",
   "execution_count": null,
   "metadata": {},
   "outputs": [],
   "source": []
  }
 ],
 "metadata": {
  "kernelspec": {
   "display_name": "Python 3 (ipykernel)",
   "language": "python",
   "name": "python3"
  },
  "language_info": {
   "codemirror_mode": {
    "name": "ipython",
    "version": 3
   },
   "file_extension": ".py",
   "mimetype": "text/x-python",
   "name": "python",
   "nbconvert_exporter": "python",
   "pygments_lexer": "ipython3",
   "version": "3.11.6"
  }
 },
 "nbformat": 4,
 "nbformat_minor": 2
}
