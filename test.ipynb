{
 "cells": [
  {
   "cell_type": "code",
   "execution_count": 7,
   "metadata": {},
   "outputs": [],
   "source": [
    "import geopandas as gpd \n",
    "import pandas as pd\n",
    "from shapely.geometry import MultiLineString\n",
    "import json,re\n",
    "gdb = r\"E:\\工作文档\\gdb数据\\SSPB1_1.gdb\"\n",
    "ZD = gpd.read_file(r\"E:\\exploitation\\webpython\\test\\test.shp\")\n",
    "ZD.to_file('./test/test.geodatabase',driver=\"SQLite\")"
   ]
  },
  {
   "cell_type": "code",
   "execution_count": 4,
   "metadata": {},
   "outputs": [],
   "source": [
    "# 编宗地代码\n",
    "for djq in df.DJZQDM.drop_duplicates():\n",
    "    if djq[:9] == '500118001':\n",
    "        n = 1\n",
    "        for index,row in df[df.DJZQDM == djq].iterrows():\n",
    "            df.loc[index,'宗地代码'] = f\"{djq}JA1{'0'*(4-len(str(n)))}{n}\"\n",
    "            n+=1\n",
    "df.to_excel(r'E:\\工作文档\\中山路街道宗地代码整理.xlsx',index=False)"
   ]
  },
  {
   "cell_type": "code",
   "execution_count": 1,
   "metadata": {},
   "outputs": [
    {
     "name": "stderr",
     "output_type": "stream",
     "text": [
      "C:\\Users\\Administrator\\AppData\\Local\\Temp\\ipykernel_25796\\708499541.py:8: UserWarning: Column names longer than 10 characters will be truncated when saved to ESRI Shapefile.\n",
      "  gdf_.to_file(save,encoding='gb18030')\n"
     ]
    }
   ],
   "source": [
    "import geopandas as gpd \n",
    "def zdfield(tfhgdb,gdf_,save):\n",
    "    tfhshp = gpd.read_file(tfhgdb,layer='ZD_SpatialJoin8')\n",
    "    def tfhs(row):\n",
    "        return '、'.join(set(tfhshp[tfhshp.ZDDM == row.ZDDM].NEWMAPNO.values))\n",
    "    gdf_.TFH = gdf_.apply(tfhs,axis=1)\n",
    "    \n",
    "    gdf_.to_file(save,encoding='gb18030')\n",
    "\n",
    "gdf = gpd.read_file(r'E:\\工作文档\\三教剩下社.gdb',layer='ZD')\n",
    "gdf['BDCDYH'] = ''\n",
    "gdf['TFH'] = ''\n",
    "gdf['飞地坐落'] = ''\n",
    "gdf['ZDMJ'] = 0\n",
    "gdf['ZDMJ'].astype('int32')\n",
    "gdf['TDZL'] = ''\n",
    "gdf['FRDB'] = ''\n",
    "gdf['LXDH'] = ''\n",
    "gdf['ZJHM'] = ''\n",
    "gdf['SZD'] = ''\n",
    "gdf['SZX'] = ''\n",
    "gdf['SZB'] = ''\n",
    "gdf['SZN'] = ''\n",
    "gdf['FDQK'] = ''\n",
    "gdf['QSLY'] = ''\n",
    "zdfield(r'C:\\Users\\Administrator\\Documents\\ArcGIS\\Projects\\MyProject1\\MyProject1.gdb',gdf,r'E:\\工作文档\\三教剩下社宗地.shp')"
   ]
  },
  {
   "cell_type": "code",
   "execution_count": 7,
   "metadata": {},
   "outputs": [],
   "source": [
    "import pandas as pd\n",
    "import geopandas as gdf\n",
    "df  = gdf.read_file(r'C:\\Program Files\\feiq\\Recv Files\\坡度赋值.gdb',layter='坡度赋值')\n",
    "field = '唯一值'\n",
    "mjfield = 'Shape_Area'\n",
    "save_path = r'E:\\工作文档\\gdb数据\\最大面积.xlsx'\n",
    "eq = df[field].drop_duplicates()\n",
    "sa = pd.DataFrame(columns=['BH','PDJB'])\n",
    "n = 0\n",
    "for value in eq:\n",
    "    mjmax = max(df[df[field] == value][mjfield])\n",
    "    \n",
    "    sa.loc[n] = [value,df[(df[field] == value) & (df[mjfield] == mjmax)].PDJB.values[0]]\n",
    "    n+=1\n",
    "sa.to_excel(save_path,index=False)"
   ]
  },
  {
   "cell_type": "code",
   "execution_count": 11,
   "metadata": {},
   "outputs": [
    {
     "name": "stdout",
     "output_type": "stream",
     "text": [
      "{'500118001018JA10048'}\n"
     ]
    }
   ],
   "source": [
    "import geopandas as gpd \n",
    "gdf = gpd.read_file(r'E:\\工作文档\\ZSL.gdb',layer='界址点成果')\n",
    "zddms = gdf.ZDDM.drop_duplicates()\n",
    "zddmlist = []\n",
    "def a(row):\n",
    "    jadh = gdf[gdf.ZDDM == row].JZD_NEW\n",
    "    if 'J1' not in list(jadh):\n",
    "        zddmlist.append(row)\n",
    "zddms.map(a)\n",
    "print(set(zddmlist))"
   ]
  },
  {
   "cell_type": "code",
   "execution_count": 4,
   "metadata": {},
   "outputs": [
    {
     "data": {
      "text/plain": [
       "{'DXF': 'rw',\n",
       " 'CSV': 'raw',\n",
       " 'OpenFileGDB': 'raw',\n",
       " 'ESRIJSON': 'r',\n",
       " 'ESRI Shapefile': 'raw',\n",
       " 'FlatGeobuf': 'raw',\n",
       " 'GeoJSON': 'raw',\n",
       " 'GeoJSONSeq': 'raw',\n",
       " 'GPKG': 'raw',\n",
       " 'GML': 'rw',\n",
       " 'OGR_GMT': 'rw',\n",
       " 'GPX': 'rw',\n",
       " 'Idrisi': 'r',\n",
       " 'MapInfo File': 'raw',\n",
       " 'DGN': 'raw',\n",
       " 'PCIDSK': 'raw',\n",
       " 'OGR_PDS': 'r',\n",
       " 'S57': 'r',\n",
       " 'SQLite': 'raw',\n",
       " 'TopoJSON': 'r'}"
      ]
     },
     "execution_count": 4,
     "metadata": {},
     "output_type": "execute_result"
    }
   ],
   "source": [
    "import fiona\n",
    "fiona.supported_drivers  "
   ]
  },
  {
   "cell_type": "code",
   "execution_count": 4,
   "metadata": {},
   "outputs": [],
   "source": [
    "import geopandas as gpd\n",
    "from shapely.geometry import Polygon\n",
    "gdf = gpd.read_file(r'E:\\exploitation\\webpython\\test\\test2.shp')\n",
    "\n",
    "arrx = gdf.loc[0,'geometry'].boundary.xy[0]\n",
    "arry = gdf.loc[0,'geometry'].boundary.xy[1]\n",
    "arrx[3] = 57398.0\n",
    "arry[3] = 63814.0\n",
    "p = Polygon(zip(arrx,arry))\n",
    "gdf.loc[0,'geometry']=p\n",
    "gdf.to_file(r'E:\\exploitation\\webpython\\test\\test3.shp',encoding='gb18030')"
   ]
  },
  {
   "cell_type": "code",
   "execution_count": 18,
   "metadata": {},
   "outputs": [
    {
     "data": {
      "text/plain": [
       "True"
      ]
     },
     "execution_count": 18,
     "metadata": {},
     "output_type": "execute_result"
    }
   ],
   "source": [
    "import pandas as pd \n",
    "import geopandas as gpd\n",
    "from shapely.geometry import Polygon,Point\n",
    "xlist = (0,4,4,0,0)\n",
    "ylist=(0,0,4,4,0)\n",
    "\n",
    "gdf = gpd.GeoSeries([Polygon(zip(xlist,ylist))])\n",
    "gdf"
   ]
  },
  {
   "cell_type": "code",
   "execution_count": 6,
   "metadata": {},
   "outputs": [],
   "source": [
    "import pandas as pd\n",
    "\n",
    "df = pd.read_excel(r\"E:\\exploitation\\webpython\\test\\工作簿1.xlsx\")\n",
    "QSDWMC = df.QSDWMC.drop_duplicates().values\n",
    "zdf = pd.DataFrame(columns=(\"QSDWMC\", \"MJ\"))\n",
    "for v in QSDWMC:\n",
    "    area = sum(df[df.QSDWMC == v].MJ.values)\n",
    "    zdf.loc[zdf.shape[0]] = [v, area]\n",
    "zdf.to_excel(r\"E:\\exploitation\\webpython\\test\\汇总面积.xlsx\")"
   ]
  }
 ],
 "metadata": {
  "kernelspec": {
   "display_name": "Python 3 (ipykernel)",
   "language": "python",
   "name": "python3"
  },
  "language_info": {
   "codemirror_mode": {
    "name": "ipython",
    "version": 3
   },
   "file_extension": ".py",
   "mimetype": "text/x-python",
   "name": "python",
   "nbconvert_exporter": "python",
   "pygments_lexer": "ipython3",
   "version": "3.11.6"
  }
 },
 "nbformat": 4,
 "nbformat_minor": 2
}
